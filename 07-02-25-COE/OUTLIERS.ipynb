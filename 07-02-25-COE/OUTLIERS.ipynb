{
 "cells": [
  {
   "cell_type": "code",
   "execution_count": 1,
   "id": "fecc4070",
   "metadata": {},
   "outputs": [],
   "source": [
    "import numpy as np\n",
    "import pandas as pd\n",
    "import matplotlib.pyplot as plt\n",
    "import seaborn as sns\n",
    "from scipy.stats import zscore"
   ]
  },
  {
   "cell_type": "code",
   "execution_count": 2,
   "id": "9ac899c3",
   "metadata": {},
   "outputs": [],
   "source": [
    "np.random.seed(42)\n",
    "data=np.random.normal(loc=50,scale=10,size=100)  \n",
    "outliers=np.array([10,110,5,120])\n",
    "data=np.concatenate([data,outliers])"
   ]
  },
  {
   "cell_type": "code",
   "execution_count": 3,
   "id": "28e416fd",
   "metadata": {},
   "outputs": [
    {
     "data": {
      "text/html": [
       "<div>\n",
       "<style scoped>\n",
       "    .dataframe tbody tr th:only-of-type {\n",
       "        vertical-align: middle;\n",
       "    }\n",
       "\n",
       "    .dataframe tbody tr th {\n",
       "        vertical-align: top;\n",
       "    }\n",
       "\n",
       "    .dataframe thead th {\n",
       "        text-align: right;\n",
       "    }\n",
       "</style>\n",
       "<table border=\"1\" class=\"dataframe\">\n",
       "  <thead>\n",
       "    <tr style=\"text-align: right;\">\n",
       "      <th></th>\n",
       "      <th>Values</th>\n",
       "    </tr>\n",
       "  </thead>\n",
       "  <tbody>\n",
       "    <tr>\n",
       "      <th>0</th>\n",
       "      <td>54.967142</td>\n",
       "    </tr>\n",
       "    <tr>\n",
       "      <th>1</th>\n",
       "      <td>48.617357</td>\n",
       "    </tr>\n",
       "    <tr>\n",
       "      <th>2</th>\n",
       "      <td>56.476885</td>\n",
       "    </tr>\n",
       "    <tr>\n",
       "      <th>3</th>\n",
       "      <td>65.230299</td>\n",
       "    </tr>\n",
       "    <tr>\n",
       "      <th>4</th>\n",
       "      <td>47.658466</td>\n",
       "    </tr>\n",
       "  </tbody>\n",
       "</table>\n",
       "</div>"
      ],
      "text/plain": [
       "      Values\n",
       "0  54.967142\n",
       "1  48.617357\n",
       "2  56.476885\n",
       "3  65.230299\n",
       "4  47.658466"
      ]
     },
     "execution_count": 3,
     "metadata": {},
     "output_type": "execute_result"
    }
   ],
   "source": [
    "df=pd.DataFrame(data,columns=['Values'])\n",
    "df.head()"
   ]
  },
  {
   "cell_type": "code",
   "execution_count": 4,
   "id": "ad424f3c",
   "metadata": {},
   "outputs": [
    {
     "data": {
      "text/html": [
       "<div>\n",
       "<style scoped>\n",
       "    .dataframe tbody tr th:only-of-type {\n",
       "        vertical-align: middle;\n",
       "    }\n",
       "\n",
       "    .dataframe tbody tr th {\n",
       "        vertical-align: top;\n",
       "    }\n",
       "\n",
       "    .dataframe thead th {\n",
       "        text-align: right;\n",
       "    }\n",
       "</style>\n",
       "<table border=\"1\" class=\"dataframe\">\n",
       "  <thead>\n",
       "    <tr style=\"text-align: right;\">\n",
       "      <th></th>\n",
       "      <th>Values</th>\n",
       "    </tr>\n",
       "  </thead>\n",
       "  <tbody>\n",
       "    <tr>\n",
       "      <th>99</th>\n",
       "      <td>47.654129</td>\n",
       "    </tr>\n",
       "    <tr>\n",
       "      <th>100</th>\n",
       "      <td>10.000000</td>\n",
       "    </tr>\n",
       "    <tr>\n",
       "      <th>101</th>\n",
       "      <td>110.000000</td>\n",
       "    </tr>\n",
       "    <tr>\n",
       "      <th>102</th>\n",
       "      <td>5.000000</td>\n",
       "    </tr>\n",
       "    <tr>\n",
       "      <th>103</th>\n",
       "      <td>120.000000</td>\n",
       "    </tr>\n",
       "  </tbody>\n",
       "</table>\n",
       "</div>"
      ],
      "text/plain": [
       "         Values\n",
       "99    47.654129\n",
       "100   10.000000\n",
       "101  110.000000\n",
       "102    5.000000\n",
       "103  120.000000"
      ]
     },
     "execution_count": 4,
     "metadata": {},
     "output_type": "execute_result"
    }
   ],
   "source": [
    "df.tail()"
   ]
  },
  {
   "cell_type": "markdown",
   "id": "62e32f70",
   "metadata": {},
   "source": [
    "***using scatter plot***\n",
    "**<ins>A SCATTER PLOT.</ins>**"
   ]
  },
  {
   "cell_type": "code",
   "execution_count": 9,
   "id": "9957e681",
   "metadata": {},
   "outputs": [
    {
     "data": {
      "image/png": "[encoded data removed]",
      "text/plain": [
       "<Figure size 800x500 with 1 Axes>"
      ]
     },
     "metadata": {},
     "output_type": "display_data"
    }
   ],
   "source": [
    "plt.figure(figsize=(8,5))\n",
    "plt.scatter(range(len(df)),df['Values'],color='pink',label='Data points')\n",
    "plt.axhline(y=df['Values'].mean(),color='red',linestyle='--',label='Mean')\n",
    "plt.xlabel(\"Index\")\n",
    "plt.ylabel(\"Values\")\n",
    "plt.title(\"Sactter plot for oulier detection\")\n",
    "plt.legend()\n",
    "plt.show()"
   ]
  },
  {
   "cell_type": "code",
   "execution_count": 11,
   "id": "3b3c944e",
   "metadata": {},
   "outputs": [
    {
     "data": {
      "image/png": "[encoded data removed]",
      "text/plain": [
       "<Figure size 800x500 with 1 Axes>"
      ]
     },
     "metadata": {},
     "output_type": "display_data"
    }
   ],
   "source": [
    "plt.figure(figsize=(8,5))\n",
    "sns.boxplot(data=df,y='Values')\n",
    "plt.title(\"Box plot for outlier detection\")\n",
    "plt.show()"
   ]
  },
  {
   "cell_type": "code",
   "execution_count": 15,
   "id": "3e799da0",
   "metadata": {},
   "outputs": [
    {
     "name": "stdout",
     "output_type": "stream",
     "text": [
      "     Values   Z-score Outlier_Z\n",
      "101   110.0  4.328173   Outlier\n",
      "102     5.0 -3.175368   Outlier\n",
      "103   120.0  5.042796   Outlier\n"
     ]
    }
   ],
   "source": [
    "df['Z-score']=zscore(df['Values'])\n",
    "df['Outlier_Z']=df['Z-score'].apply(lambda x:'Outlier' if abs(x) > 3 else 'Normal')\n",
    "print(df[df['Outlier_Z']=='Outlier'])"
   ]
  },
  {
   "cell_type": "markdown",
   "id": "eb1be23e",
   "metadata": {},
   "source": [
    "**Interquartile Range(IQR) Method The IQR Formula is**\n",
    "IQR=Q3-Q1\n",
    "STEPS:\n",
    "1.calculate Q1(25TH PERCENTILE) and Q3(75th PERCENTILE)\n",
    "2.compute IQR=Q3-Q1.\n",
    "3.Define Lower and Upper bounds:\n",
    "       **lower_bound=Q1-1.5*IQR**\n",
    "       **Upper_bound=Q3+1.5*IQR**\n",
    "4.Any value outside these bounds is an outlier."
   ]
  },
  {
   "cell_type": "code",
   "execution_count": 23,
   "id": "27a36238",
   "metadata": {},
   "outputs": [
    {
     "name": "stdout",
     "output_type": "stream",
     "text": [
      "         Values   Z-score Outlier_Z Outlier_IQR\n",
      "74    23.802549 -1.831694    Normal     Outlier\n",
      "100   10.000000 -2.818056    Normal     Outlier\n",
      "101  110.000000  4.328173   Outlier     Outlier\n",
      "102    5.000000 -3.175368   Outlier     Outlier\n",
      "103  120.000000  5.042796   Outlier     Outlier\n"
     ]
    }
   ],
   "source": [
    "Q1 = df['Values'].quantile(0.25)\n",
    "Q3 = df['Values'].quantile(0.75)\n",
    "IQR = Q3 - Q1\n",
    "lower_bound = Q1 - 1.5 * IQR\n",
    "upper_bound = Q3 + 1.5 * IQR\n",
    "df['Outlier_IQR'] = df['Values'].apply(lambda x: 'Outlier' if (x < lower_bound or x > upper_bound) else 'Normal')\n",
    "print(df[df['Outlier_IQR'] == 'Outlier'])\n"
   ]
  },
  {
   "cell_type": "markdown",
   "id": "5db15f4f",
   "metadata": {},
   "source": [
    "**Finding Outliers Using the IQR Method with a 5-Number Summary**\n",
    "\n",
    "The 5-number summary consists of:\n",
    " \n",
    "Minimum (Q0) → The smallest value in the dataset.\n",
    " \n",
    "First Quartile (Q1) → The 25th percentile (lower quartile).\n",
    " \n",
    "Median (Q2) → The 50th percentile (middle value).\n",
    " \n",
    "Third Quartile (Q3) → The 75th percentile (upper quartile).\n",
    " \n",
    "Maximum (Q4) → The largest value in the dataset.\n",
    " "
   ]
  },
  {
   "cell_type": "markdown",
   "id": "135c5966",
   "metadata": {},
   "source": [
    "The Interquartile Range (IQR) is calculated as:\n",
    " \n",
    "IQR=Q3−Q1\n",
    " \n",
    "Any value outside the range:\n",
    " \n",
    "[Q1−1.5×IQR,Q3+1.5×IQR]  is considered an outlier."
   ]
  },
  {
   "cell_type": "code",
   "execution_count": 33,
   "id": "7cf5fa45",
   "metadata": {},
   "outputs": [
    {
     "name": "stdout",
     "output_type": "stream",
     "text": [
      "5 Number Summary:\n",
      "Minimum (Q0):5.0\n",
      "First Quartile (Q1):43.874401021766715\n",
      "Median (Q2):48.73043708220287\n",
      "Third Quartile (Q3):55.00852473036764\n",
      "Maximum (Q4):120.0\n",
      "IQR:11.134123708600924\n",
      "lower bound:27.17321545886533,Upper bound:71.70971029326903\n",
      "Outliers:\n",
      "         Values\n",
      "74    23.802549\n",
      "100   10.000000\n",
      "101  110.000000\n",
      "102    5.000000\n",
      "103  120.000000\n"
     ]
    }
   ],
   "source": [
    "import numpy as np\n",
    "import pandas as pd\n",
    "np.random.seed(42)\n",
    "data = np.random.normal(loc=50,scale=10,size=100)\n",
    "outliers=np.array([10, 110, 5, 120])\n",
    "data=np.concatenate([data, outliers])\n",
    "df=pd.DataFrame(data, columns=['Values'])\n",
    "min_value = df['Values'].min()\n",
    "Q1=df['Values'].quantile(0.25)\n",
    "median=df['Values'].median()\n",
    "Q3=df['Values'].quantile(0.75)\n",
    "max_value=df['Values'].max()\n",
    "IQR=Q3 - Q1\n",
    "lower_bound=Q1 - 1.5 * IQR\n",
    "upper_bound=Q3 + 1.5 * IQR\n",
    "outliers_df=df[(df['Values']<lower_bound)|(df['Values']>upper_bound)]\n",
    "print(f\"5 Number Summary:\")\n",
    "print(f\"Minimum (Q0):{min_value}\")\n",
    "print(f\"First Quartile (Q1):{Q1}\")\n",
    "print(f\"Median (Q2):{median}\")\n",
    "print(f\"Third Quartile (Q3):{Q3}\")\n",
    "print(f\"Maximum (Q4):{max_value}\")\n",
    "print(f\"IQR:{IQR}\")\n",
    "print(f\"lower bound:{lower_bound},Upper bound:{upper_bound}\")\n",
    "print(f\"Outliers:\\n{outliers_df}\")\n"
   ]
  },
  {
   "cell_type": "code",
   "execution_count": null,
   "id": "0f925c97",
   "metadata": {},
   "outputs": [],
   "source": []
  }
 ],
 "metadata": {
  "kernelspec": {
   "display_name": "Python 3 (ipykernel)",
   "language": "python",
   "name": "python3"
  },
  "language_info": {
   "codemirror_mode": {
    "name": "ipython",
    "version": 3
   },
   "file_extension": ".py",
   "mimetype": "text/x-python",
   "name": "python",
   "nbconvert_exporter": "python",
   "pygments_lexer": "ipython3",
   "version": "3.11.5"
  }
 },
 "nbformat": 4,
 "nbformat_minor": 5
}
